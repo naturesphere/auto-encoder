{
 "cells": [
  {
   "cell_type": "code",
   "execution_count": 1,
   "metadata": {},
   "outputs": [],
   "source": [
    "from bs4 import BeautifulSoup\n",
    "import os\n",
    "from tqdm import tqdm\n",
    "import pandas as pd"
   ]
  },
  {
   "cell_type": "code",
   "execution_count": 2,
   "metadata": {},
   "outputs": [],
   "source": [
    "INPUT = {\n",
    "    'valid': '../data/LCSTS_ORIGIN/DATA/PART_III.txt',\n",
    "    'test': '../data/LCSTS_ORIGIN/DATA/PART_II.txt',\n",
    "    'train': '../data/LCSTS_ORIGIN/DATA/PART_I.txt'\n",
    "}\n",
    "\n",
    "OUTPUT_DIR = '../data'"
   ]
  },
  {
   "cell_type": "code",
   "execution_count": 8,
   "metadata": {},
   "outputs": [
    {
     "name": "stderr",
     "output_type": "stream",
     "text": [
      "100%|█████████████████████████████████████████████████████████████████████████| 10666/10666 [00:00<00:00, 38367.58it/s]\n"
     ]
    }
   ],
   "source": [
    "texts, summaries=[], []\n",
    "with open('../data/LCSTS_ORIGIN/DATA/PART_II.txt', encoding='utf-8') as f:\n",
    "    contents=f.read()\n",
    "    soup=BeautifulSoup(contents,'html.parser')\n",
    "    for doc in tqdm(soup.find_all('doc')):\n",
    "            short_text = doc.find('short_text').get_text()\n",
    "            summary = doc.find('summary').get_text()\n",
    "            texts.append(short_text.strip())\n",
    "            summaries.append(summary.strip())\n",
    "df=pd.DataFrame({'text':texts, 'summary':summaries})"
   ]
  },
  {
   "cell_type": "code",
   "execution_count": 9,
   "metadata": {},
   "outputs": [
    {
     "data": {
      "text/plain": [
       "(10666, 2)"
      ]
     },
     "execution_count": 9,
     "metadata": {},
     "output_type": "execute_result"
    }
   ],
   "source": [
    "df.shape"
   ]
  },
  {
   "cell_type": "code",
   "execution_count": 10,
   "metadata": {},
   "outputs": [
    {
     "data": {
      "text/html": [
       "<div>\n",
       "<style scoped>\n",
       "    .dataframe tbody tr th:only-of-type {\n",
       "        vertical-align: middle;\n",
       "    }\n",
       "\n",
       "    .dataframe tbody tr th {\n",
       "        vertical-align: top;\n",
       "    }\n",
       "\n",
       "    .dataframe thead th {\n",
       "        text-align: right;\n",
       "    }\n",
       "</style>\n",
       "<table border=\"1\" class=\"dataframe\">\n",
       "  <thead>\n",
       "    <tr style=\"text-align: right;\">\n",
       "      <th></th>\n",
       "      <th>text</th>\n",
       "      <th>summary</th>\n",
       "    </tr>\n",
       "  </thead>\n",
       "  <tbody>\n",
       "    <tr>\n",
       "      <th>0</th>\n",
       "      <td>日前，方舟子发文直指林志颖旗下爱碧丽推销假保健品，引起哗然。调查发现，爱碧丽没有自己的生产加...</td>\n",
       "      <td>林志颖公司疑涉虚假营销无厂房无研发</td>\n",
       "    </tr>\n",
       "    <tr>\n",
       "      <th>1</th>\n",
       "      <td>韩方应对路径可以概括为：企业道歉担责；政府公正不护短；民间祈福关怀。他们深知形象的重要，竭力...</td>\n",
       "      <td>从韩亚航空事故看其应对路径</td>\n",
       "    </tr>\n",
       "    <tr>\n",
       "      <th>2</th>\n",
       "      <td>63岁退休教师谢淑华，拉着人力板车，历时1年，走了2万4千里路，带着年过九旬的妈妈环游中国，...</td>\n",
       "      <td>女子用板车拉九旬老母环游中国1年走2万4千里</td>\n",
       "    </tr>\n",
       "    <tr>\n",
       "      <th>3</th>\n",
       "      <td>昨天，包括工农中建交五大行在内的多家银行，不约而同地在官网发布公告称，它们的房地产贷款政策没...</td>\n",
       "      <td>银行集体发声：房贷政策没变</td>\n",
       "    </tr>\n",
       "    <tr>\n",
       "      <th>4</th>\n",
       "      <td>广东4名律师致函中国民航局，要求其规定，航班起飞前要向乘客公布机组人员信息包括安全飞行时间、...</td>\n",
       "      <td>四律师上书民航总局：起飞前应公布机长信息</td>\n",
       "    </tr>\n",
       "  </tbody>\n",
       "</table>\n",
       "</div>"
      ],
      "text/plain": [
       "                                                text                 summary\n",
       "0  日前，方舟子发文直指林志颖旗下爱碧丽推销假保健品，引起哗然。调查发现，爱碧丽没有自己的生产加...       林志颖公司疑涉虚假营销无厂房无研发\n",
       "1  韩方应对路径可以概括为：企业道歉担责；政府公正不护短；民间祈福关怀。他们深知形象的重要，竭力...           从韩亚航空事故看其应对路径\n",
       "2  63岁退休教师谢淑华，拉着人力板车，历时1年，走了2万4千里路，带着年过九旬的妈妈环游中国，...  女子用板车拉九旬老母环游中国1年走2万4千里\n",
       "3  昨天，包括工农中建交五大行在内的多家银行，不约而同地在官网发布公告称，它们的房地产贷款政策没...           银行集体发声：房贷政策没变\n",
       "4  广东4名律师致函中国民航局，要求其规定，航班起飞前要向乘客公布机组人员信息包括安全飞行时间、...    四律师上书民航总局：起飞前应公布机长信息"
      ]
     },
     "execution_count": 10,
     "metadata": {},
     "output_type": "execute_result"
    }
   ],
   "source": [
    "df.head()"
   ]
  },
  {
   "cell_type": "code",
   "execution_count": 2,
   "metadata": {},
   "outputs": [],
   "source": [
    "def txt2df(fp):\n",
    "    texts, summaries=[], []\n",
    "    errors=[]\n",
    "    with open(fp, encoding='utf-8') as f:\n",
    "        contents=f.read()\n",
    "        soup=BeautifulSoup(contents,'html.parser')\n",
    "        for i,doc in enumerate(soup.find_all('doc')):\n",
    "            tmp1,tmp2 = doc.find('short_text'),doc.find('summary')\n",
    "            try:\n",
    "                texts.append(tmp1.get_text().strip())\n",
    "                summaries.append(tmp2.get_text().strip())\n",
    "            except:\n",
    "                print(i)\n",
    "    df=pd.DataFrame({'text':texts, 'summary':summaries})\n",
    "    return df, errors"
   ]
  },
  {
   "cell_type": "code",
   "execution_count": 24,
   "metadata": {},
   "outputs": [
    {
     "name": "stderr",
     "output_type": "stream",
     "text": [
      "100%|█████████████████████████████████████████████████████████████████████████| 10666/10666 [00:00<00:00, 38367.19it/s]\n"
     ]
    },
    {
     "name": "stdout",
     "output_type": "stream",
     "text": [
      "Wall time: 1.61 s\n"
     ]
    }
   ],
   "source": [
    "%%time\n",
    "fp='../data/LCSTS_ORIGIN/DATA/PART_II.txt'\n",
    "df2,errors=txt2df(fp)"
   ]
  },
  {
   "cell_type": "code",
   "execution_count": 27,
   "metadata": {},
   "outputs": [
    {
     "data": {
      "text/plain": [
       "(10666, 2)"
      ]
     },
     "execution_count": 27,
     "metadata": {},
     "output_type": "execute_result"
    }
   ],
   "source": [
    "df2.shape"
   ]
  },
  {
   "cell_type": "code",
   "execution_count": 28,
   "metadata": {},
   "outputs": [
    {
     "name": "stderr",
     "output_type": "stream",
     "text": [
      "100%|███████████████████████████████████████████████████████████████████████████| 1106/1106 [00:00<00:00, 35678.08it/s]"
     ]
    },
    {
     "name": "stdout",
     "output_type": "stream",
     "text": [
      "Wall time: 173 ms\n"
     ]
    },
    {
     "name": "stderr",
     "output_type": "stream",
     "text": [
      "\n"
     ]
    }
   ],
   "source": [
    "%%time\n",
    "fp='../data/LCSTS_ORIGIN/DATA/PART_III.txt'\n",
    "df3,errors=txt2df(fp)"
   ]
  },
  {
   "cell_type": "code",
   "execution_count": null,
   "metadata": {},
   "outputs": [],
   "source": [
    "%%time\n",
    "fp='../data/LCSTS_ORIGIN/DATA/PART_I.txt'\n",
    "df1, errors=txt2df(fp)\n",
    "df1.to_csv('../data/part1.csv', index=False)"
   ]
  },
  {
   "cell_type": "code",
   "execution_count": 3,
   "metadata": {},
   "outputs": [
    {
     "name": "stdout",
     "output_type": "stream",
     "text": [
      "Wall time: 3min 49s\n"
     ]
    }
   ],
   "source": [
    "%%time\n",
    "with open('../data/LCSTS_ORIGIN/DATA/PART_I.txt', encoding='utf-8') as f:\n",
    "    contents=f.read()\n",
    "    soup=BeautifulSoup(contents,'html.parser')"
   ]
  },
  {
   "cell_type": "code",
   "execution_count": null,
   "metadata": {},
   "outputs": [],
   "source": [
    "soup.find_all('doc')"
   ]
  },
  {
   "cell_type": "code",
   "execution_count": 10,
   "metadata": {},
   "outputs": [],
   "source": [
    "s=\"<doc id=0>\\\n",
    "    <human_label>5</human_label>\\\n",
    "    <summary>\\\n",
    "        可穿戴技术十大设计原则\\\n",
    "    </summary>\\\n",
    "    <short_text>\\\n",
    "        本文总结了十个可穿戴产品的设计原则，而这些原则，同样也是笔者认为是这个行业最吸引人的地方：1.为人们解决重复性问题；2.从人开始，而不是从机器开始；3.要引起注意，但不要刻意；4.提升用户能力，而不是取代人\\\n",
    "    </short_text>\\\n",
    "</doc>\""
   ]
  },
  {
   "cell_type": "code",
   "execution_count": 12,
   "metadata": {},
   "outputs": [
    {
     "name": "stdout",
     "output_type": "stream",
     "text": [
      "<doc id=0>    <human_label>5</human_label>    <summary>        可穿戴技术十大设计原则    </summary>    <short_text>        本文总结了十个可穿戴产品的设计原则，而这些原则，同样也是笔者认为是这个行业最吸引人的地方：1.为人们解决重复性问题；2.从人开始，而不是从机器开始；3.要引起注意，但不要刻意；4.提升用户能力，而不是取代人    </short_text></doc>\n"
     ]
    }
   ],
   "source": [
    "print(s)"
   ]
  },
  {
   "cell_type": "code",
   "execution_count": 13,
   "metadata": {},
   "outputs": [],
   "source": [
    "sp=BeautifulSoup(s, 'html.parser')"
   ]
  },
  {
   "cell_type": "code",
   "execution_count": 18,
   "metadata": {},
   "outputs": [
    {
     "data": {
      "text/plain": [
       "'5'"
      ]
     },
     "execution_count": 18,
     "metadata": {},
     "output_type": "execute_result"
    }
   ],
   "source": [
    "sp.human_label.get_text()"
   ]
  },
  {
   "cell_type": "code",
   "execution_count": null,
   "metadata": {},
   "outputs": [],
   "source": []
  }
 ],
 "metadata": {
  "kernelspec": {
   "name": "python385jvsc74a57bd0b3ba2566441a7c06988d0923437866b63cedc61552a5af99d1f4fb67d367b25f",
   "display_name": "Python 3.8.5 64-bit (conda)"
  },
  "language_info": {
   "codemirror_mode": {
    "name": "ipython",
    "version": 3
   },
   "file_extension": ".py",
   "mimetype": "text/x-python",
   "name": "python",
   "nbconvert_exporter": "python",
   "pygments_lexer": "ipython3",
   "version": "3.8.5-final"
  }
 },
 "nbformat": 4,
 "nbformat_minor": 4
}