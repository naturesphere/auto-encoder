{
 "cells": [
  {
   "cell_type": "code",
   "execution_count": 1,
   "id": "destroyed-license",
   "metadata": {},
   "outputs": [],
   "source": [
    "from transformers import BertTokenizer, BertModel,get_linear_schedule_with_warmup, AdamW\n",
    "from transformers import AutoTokenizer, AutoModelForMaskedLM\n",
    "from torch import nn, optim\n",
    "from torch.utils.data import Dataset, DataLoader\n",
    "import pandas as pd\n",
    "import torch\n",
    "import numpy as np\n",
    "import time, re\n",
    "from sklearn.model_selection import train_test_split\n",
    "import os, unicodedata\n",
    "from pytorch_lightning import Trainer,LightningDataModule,LightningModule\n",
    "from torch.nn import functional as F\n",
    "from pytorch_lightning.metrics import functional, Accuracy\n",
    "from pytorch_lightning.callbacks import ProgressBar, ModelCheckpoint\n",
    "from pytorch_lightning.loggers import CSVLogger\n",
    "\n",
    "\n",
    "from sklearn.metrics import accuracy_score,classification_report\n",
    "from matplotlib import pyplot as plt\n",
    "%matplotlib inline"
   ]
  },
  {
   "cell_type": "code",
   "execution_count": 2,
   "id": "annual-dynamics",
   "metadata": {},
   "outputs": [],
   "source": [
    "source_dir='../data/model/'"
   ]
  },
  {
   "cell_type": "code",
   "execution_count": 4,
   "id": "superior-bridge",
   "metadata": {},
   "outputs": [],
   "source": [
    "version=time.strftime('%Y%m%d-%H%M%S')\n",
    "version='20210316-192256'"
   ]
  },
  {
   "cell_type": "code",
   "execution_count": 5,
   "id": "failing-while",
   "metadata": {},
   "outputs": [],
   "source": [
    "def get_model_path(source_dir,model_name,version):\n",
    "    def remove_empty_dir(md):\n",
    "        if not os.path.exists(md):\n",
    "            return True\n",
    "        if not os.listdir(md):\n",
    "            os.rmdir(md)\n",
    "        if os.path.exists(md):\n",
    "            return False\n",
    "        return True\n",
    "    md=os.path.join(source_dir,version)\n",
    "    os.makedirs(md, exist_ok=True)\n",
    "    if os.path.exists(md):\n",
    "        remove_empty_dir(md)\n",
    "        return md, os.path.join(md,model_name)\n",
    "    else:\n",
    "        return None,None"
   ]
  },
  {
   "cell_type": "code",
   "execution_count": 6,
   "id": "dimensional-gossip",
   "metadata": {},
   "outputs": [],
   "source": [
    "bert_path='../../resource/bert_base_chinese/'"
   ]
  },
  {
   "cell_type": "code",
   "execution_count": 7,
   "id": "interracial-teddy",
   "metadata": {},
   "outputs": [
    {
     "name": "stdout",
     "output_type": "stream",
     "text": [
      "CPU times: user 11.2 s, sys: 1.11 s, total: 12.3 s\n",
      "Wall time: 2.32 s\n"
     ]
    }
   ],
   "source": [
    "%%time\n",
    "tokenizer=BertTokenizer.from_pretrained(bert_path)\n",
    "bert=BertModel.from_pretrained(bert_path)"
   ]
  },
  {
   "cell_type": "code",
   "execution_count": 8,
   "id": "passing-silly",
   "metadata": {},
   "outputs": [],
   "source": [
    "class MyClassifier(LightningModule):\n",
    "    \n",
    "    def __init__(self):\n",
    "        super().__init__()\n",
    "        self.bert=bert\n",
    "        self.dense1=nn.Linear(768*2,128)\n",
    "        self.dense2=nn.Linear(128,1)\n",
    "        self.train_acc=Accuracy()\n",
    "        self.valid_acc=Accuracy()\n",
    "        self.test_acc=Accuracy()\n",
    "        self.predicts=[]\n",
    "        self.labels=[]\n",
    "        self.tmp=[0,0]\n",
    "    \n",
    "    def setup(self, stage):\n",
    "        self.predicts, self.labels=[],[]\n",
    "    \n",
    "    def forward(self,x):\n",
    "        x1,x2=x\n",
    "        pooled_out=self.bert(\n",
    "            input_ids=x1['input_ids'],\n",
    "            attention_mask=x1['attention_mask'],\n",
    "            token_type_ids=x1['token_type_ids']\n",
    "        )['pooler_output']\n",
    "        v1=pooled_out.mean(-2)\n",
    "        v2=self.bert(\n",
    "            input_ids=x2['input_ids'],\n",
    "            attention_mask=x2['attention_mask'],\n",
    "            token_type_ids=x2['token_type_ids']\n",
    "        )['pooler_output']\n",
    "        v=torch.cat((v1,v2.reshape(-1)))\n",
    "        v=nn.Tanh()(self.dense1(v))\n",
    "        v=nn.Sigmoid()(self.dense2(v))\n",
    "        return v\n",
    "    \n",
    "    def _step(self, batch, batch_idx):\n",
    "        loss,n=0.0,len(batch)\n",
    "        yhs,ys=[],[]\n",
    "        for x,y in batch:\n",
    "            yh=self(x)\n",
    "            loss+=F.binary_cross_entropy(yh,y)\n",
    "            yhs.append(yh)\n",
    "            ys.append(y)\n",
    "        loss/=n\n",
    "        return loss,torch.tensor(yhs),torch.tensor(ys)\n",
    "    \n",
    "    def training_step(self, batch, batch_idx):\n",
    "        loss, yhs, ys = self._step(batch, batch_idx)\n",
    "        self.train_acc(yhs,ys)\n",
    "        self.log('train_acc', self.train_acc, on_epoch=True ,prog_bar=True)\n",
    "        return loss\n",
    "    \n",
    "    def training_epoch_end(self,losses):\n",
    "        acc=self.train_acc.compute()\n",
    "        self.tmp[0]=acc\n",
    "        \n",
    "    def validation_step(self, batch, batch_idx):\n",
    "        _, yhs, ys = self._step(batch, batch_idx)\n",
    "        self.valid_acc(yhs,ys)\n",
    "    \n",
    "    def validation_epoch_end(self,losses):\n",
    "        acc=self.valid_acc.compute()\n",
    "        self.log('valid_acc', self.valid_acc, prog_bar=True, logger=True)\n",
    "        self.tmp[1]=acc\n",
    "        print(f'train_acc={self.tmp[0]:.4f}, valid_acc={self.tmp[1]:.4f}')\n",
    "        \n",
    "    def test_step(self, batch, batch_idx):\n",
    "        _, yhs, ys = self._step(batch, batch_idx)\n",
    "        self.predicts+=yhs.tolist()\n",
    "        self.labels+=ys.tolist()\n",
    "        acc=self.test_acc(yhs, ys)\n",
    "        \n",
    "    def test_epoch_end(self, losses):\n",
    "        print(f'test_acc={self.test_acc.compute():.4f}')\n",
    "        \n",
    "    def configure_optimizers(self):\n",
    "        return torch.optim.Adam(self.parameters(), lr=1e-5)\n",
    "    \n",
    "    def get_progress_bar_dict(self):\n",
    "        # don't show the version number\n",
    "        items = super().get_progress_bar_dict()\n",
    "        items.pop(\"v_num\", None)\n",
    "        return items\n",
    "        \n",
    "model=MyClassifier()"
   ]
  },
  {
   "cell_type": "code",
   "execution_count": 9,
   "id": "wrong-clearance",
   "metadata": {},
   "outputs": [],
   "source": [
    "max_length=512"
   ]
  },
  {
   "cell_type": "code",
   "execution_count": 10,
   "id": "significant-freight",
   "metadata": {},
   "outputs": [
    {
     "data": {
      "text/plain": [
       "tensor([0.4047], grad_fn=<SigmoidBackward>)"
      ]
     },
     "execution_count": 10,
     "metadata": {},
     "output_type": "execute_result"
    }
   ],
   "source": [
    "def test_inference(model):\n",
    "    s1 = ['我要圣诞礼物毕业礼物',\n",
    "          '还有新年礼物',\n",
    "          '对的',\n",
    "          '你嫁我好了',\n",
    "          '就那么点礼物就要我跟你走？',\n",
    "          '那我跟你走',\n",
    "          '我买不起礼物']\n",
    "    s2 = '你就是我最好的礼物'\n",
    "    X1=tokenizer(s1,padding=True,truncation=True,return_tensors='pt',max_length=max_length)\n",
    "    X2=tokenizer(s2,padding=True,truncation=True,return_tensors='pt',max_length=max_length)\n",
    "    return model([X1,X2])\n",
    "\n",
    "test_inference(model)"
   ]
  },
  {
   "cell_type": "code",
   "execution_count": 11,
   "id": "crude-payment",
   "metadata": {},
   "outputs": [],
   "source": [
    "class MyDataset(Dataset):\n",
    "    def __init__(self, df):\n",
    "        self.df=df\n",
    "    def __len__(self):\n",
    "        return len(self.df)\n",
    "    def __getitem__(self,i):\n",
    "        row=self.df.iloc[i].fillna('')\n",
    "        q1=row['q1'].split('|')\n",
    "        q2=row['q2']\n",
    "        y=row['y'] if 'y' in row else 0\n",
    "        x1=tokenizer(q1,padding=True,truncation=True,return_tensors='pt',max_length=max_length)\n",
    "        x2=tokenizer(q2,padding=True,truncation=True,return_tensors='pt',max_length=max_length)\n",
    "        return (x1,x2),torch.tensor([y],dtype=torch.float)\n",
    "#         return (q1,q2),y\n",
    "    \n",
    "    @classmethod\n",
    "    def collate_fn(cls, batch):\n",
    "        return batch"
   ]
  },
  {
   "cell_type": "code",
   "execution_count": 12,
   "id": "neutral-psychology",
   "metadata": {},
   "outputs": [],
   "source": [
    "data_paths=['../data/data_random_only/train.csv', \n",
    "            '../data/data_random_only/valid.csv', \n",
    "            '../data/data_test/test.csv']"
   ]
  },
  {
   "cell_type": "code",
   "execution_count": 13,
   "id": "current-damages",
   "metadata": {},
   "outputs": [],
   "source": [
    "nrow_train, nrow_other=1000000, None"
   ]
  },
  {
   "cell_type": "code",
   "execution_count": 14,
   "id": "dried-confidence",
   "metadata": {},
   "outputs": [],
   "source": [
    "data_valid=pd.read_csv(data_paths[1], nrows=nrow_other)\n",
    "data_test=pd.read_csv(data_paths[2], nrows=nrow_other)"
   ]
  },
  {
   "cell_type": "code",
   "execution_count": 15,
   "id": "celtic-contents",
   "metadata": {},
   "outputs": [
    {
     "name": "stdout",
     "output_type": "stream",
     "text": [
      "CPU times: user 2.22 s, sys: 164 ms, total: 2.38 s\n",
      "Wall time: 2.38 s\n"
     ]
    }
   ],
   "source": [
    "%%time\n",
    "data_train=pd.read_csv(data_paths[0], nrows=nrow_train)"
   ]
  },
  {
   "cell_type": "code",
   "execution_count": 16,
   "id": "environmental-positive",
   "metadata": {},
   "outputs": [
    {
     "data": {
      "text/plain": [
       "((1000000, 3), (73834, 3), (33342, 3))"
      ]
     },
     "execution_count": 16,
     "metadata": {},
     "output_type": "execute_result"
    }
   ],
   "source": [
    "data_train.shape, data_valid.shape, data_test.shape"
   ]
  },
  {
   "cell_type": "code",
   "execution_count": 17,
   "id": "general-better",
   "metadata": {},
   "outputs": [
    {
     "data": {
      "text/html": [
       "<div>\n",
       "<style scoped>\n",
       "    .dataframe tbody tr th:only-of-type {\n",
       "        vertical-align: middle;\n",
       "    }\n",
       "\n",
       "    .dataframe tbody tr th {\n",
       "        vertical-align: top;\n",
       "    }\n",
       "\n",
       "    .dataframe thead th {\n",
       "        text-align: right;\n",
       "    }\n",
       "</style>\n",
       "<table border=\"1\" class=\"dataframe\">\n",
       "  <thead>\n",
       "    <tr style=\"text-align: right;\">\n",
       "      <th></th>\n",
       "      <th>q1</th>\n",
       "      <th>q2</th>\n",
       "      <th>y</th>\n",
       "    </tr>\n",
       "  </thead>\n",
       "  <tbody>\n",
       "    <tr>\n",
       "      <th>0</th>\n",
       "      <td>这位同学注意回消息|偏不</td>\n",
       "      <td>看我对你多好呀一起来就找你</td>\n",
       "      <td>0</td>\n",
       "    </tr>\n",
       "    <tr>\n",
       "      <th>1</th>\n",
       "      <td>我是说真的～小时候过河走独木桥～我晕啊晕啊的就掉河里啦|这也行|嗯呢～我记得呢大概四五岁的样...</td>\n",
       "      <td>好呀～我想过失忆呢看电视看的</td>\n",
       "      <td>1</td>\n",
       "    </tr>\n",
       "    <tr>\n",
       "      <th>2</th>\n",
       "      <td>还会搭龟梯，真聪明！赏点吃的|那天带点来|你还没睡呢|你不也是</td>\n",
       "      <td>反正你们都不爱我了</td>\n",
       "      <td>0</td>\n",
       "    </tr>\n",
       "    <tr>\n",
       "      <th>3</th>\n",
       "      <td>我准备拿你当礼物送给妹子|我谢谢你！求之不得啊</td>\n",
       "      <td>知道10个女人和一个男人在岛上的故事么</td>\n",
       "      <td>1</td>\n",
       "    </tr>\n",
       "    <tr>\n",
       "      <th>4</th>\n",
       "      <td>刚好放暑假了给你阿</td>\n",
       "      <td>我怕你的老师会爱上我</td>\n",
       "      <td>1</td>\n",
       "    </tr>\n",
       "    <tr>\n",
       "      <th>5</th>\n",
       "      <td>怎么才能坚持书摘</td>\n",
       "      <td>我喜欢冬天不怕冷</td>\n",
       "      <td>0</td>\n",
       "    </tr>\n",
       "    <tr>\n",
       "      <th>6</th>\n",
       "      <td>赵小国麻辣烫|这你都知道</td>\n",
       "      <td>今晚不用开空调了</td>\n",
       "      <td>0</td>\n",
       "    </tr>\n",
       "    <tr>\n",
       "      <th>7</th>\n",
       "      <td>戴口罩的大明星|小心有雾霾</td>\n",
       "      <td>哪里要我带了吸尘器去吗</td>\n",
       "      <td>1</td>\n",
       "    </tr>\n",
       "    <tr>\n",
       "      <th>8</th>\n",
       "      <td>走，上夜班|起开</td>\n",
       "      <td>我要起床，准备上班了</td>\n",
       "      <td>1</td>\n",
       "    </tr>\n",
       "    <tr>\n",
       "      <th>9</th>\n",
       "      <td>嗨呀回来请我吃饭吗|嗨呀大忙人我哪里见得到你哟</td>\n",
       "      <td>嗨呀你这样说就好气</td>\n",
       "      <td>1</td>\n",
       "    </tr>\n",
       "    <tr>\n",
       "      <th>10</th>\n",
       "      <td>洗冷水和不洗澡你选哪个|没热水吗|热水都是奢望啦，压根就没水|可怜，同情</td>\n",
       "      <td>你2妹</td>\n",
       "      <td>1</td>\n",
       "    </tr>\n",
       "    <tr>\n",
       "      <th>11</th>\n",
       "      <td>这学习把孩子累的|并没有啊，开了一天车</td>\n",
       "      <td>我也就说说</td>\n",
       "      <td>1</td>\n",
       "    </tr>\n",
       "    <tr>\n",
       "      <th>12</th>\n",
       "      <td>哎呀在我心中你最美啦|加油要胖一起胖|不行你都有小哥哥了你可以</td>\n",
       "      <td>来让我们相伴到黎明</td>\n",
       "      <td>0</td>\n",
       "    </tr>\n",
       "    <tr>\n",
       "      <th>13</th>\n",
       "      <td>好久不见了妳|哎呀～被发现了～嘿嘿～最近犯懒～常，隐身～|就不想妳再躲着</td>\n",
       "      <td>爬嘛你我好久说撇咯么我期望有点儿高么</td>\n",
       "      <td>0</td>\n",
       "    </tr>\n",
       "    <tr>\n",
       "      <th>14</th>\n",
       "      <td>恭喜恭喜</td>\n",
       "      <td>谢谢大脸姐姐</td>\n",
       "      <td>1</td>\n",
       "    </tr>\n",
       "    <tr>\n",
       "      <th>15</th>\n",
       "      <td>全当有氧了</td>\n",
       "      <td>施主节哀</td>\n",
       "      <td>0</td>\n",
       "    </tr>\n",
       "    <tr>\n",
       "      <th>16</th>\n",
       "      <td>你真贤惠</td>\n",
       "      <td>拜托，自己给自己准备，那是没有办法，那你怎么吃啊</td>\n",
       "      <td>1</td>\n",
       "    </tr>\n",
       "    <tr>\n",
       "      <th>17</th>\n",
       "      <td>嫁对了人，多远都是幸福，嫁不对人，一个村也是凑合|我妈从小就灌输我思想，千万别找外地的，因此...</td>\n",
       "      <td>真好</td>\n",
       "      <td>1</td>\n",
       "    </tr>\n",
       "    <tr>\n",
       "      <th>18</th>\n",
       "      <td>喜新厌旧</td>\n",
       "      <td>你的id好特别</td>\n",
       "      <td>0</td>\n",
       "    </tr>\n",
       "    <tr>\n",
       "      <th>19</th>\n",
       "      <td>这才好，女生主动，她气你也是她的可爱|做男人很辛苦的啊哈哈</td>\n",
       "      <td>孩纸...皮好薄</td>\n",
       "      <td>0</td>\n",
       "    </tr>\n",
       "  </tbody>\n",
       "</table>\n",
       "</div>"
      ],
      "text/plain": [
       "                                                   q1  \\\n",
       "0                                        这位同学注意回消息|偏不   \n",
       "1   我是说真的～小时候过河走独木桥～我晕啊晕啊的就掉河里啦|这也行|嗯呢～我记得呢大概四五岁的样...   \n",
       "2                     还会搭龟梯，真聪明！赏点吃的|那天带点来|你还没睡呢|你不也是   \n",
       "3                             我准备拿你当礼物送给妹子|我谢谢你！求之不得啊   \n",
       "4                                           刚好放暑假了给你阿   \n",
       "5                                            怎么才能坚持书摘   \n",
       "6                                        赵小国麻辣烫|这你都知道   \n",
       "7                                       戴口罩的大明星|小心有雾霾   \n",
       "8                                            走，上夜班|起开   \n",
       "9                             嗨呀回来请我吃饭吗|嗨呀大忙人我哪里见得到你哟   \n",
       "10               洗冷水和不洗澡你选哪个|没热水吗|热水都是奢望啦，压根就没水|可怜，同情   \n",
       "11                                这学习把孩子累的|并没有啊，开了一天车   \n",
       "12                    哎呀在我心中你最美啦|加油要胖一起胖|不行你都有小哥哥了你可以   \n",
       "13               好久不见了妳|哎呀～被发现了～嘿嘿～最近犯懒～常，隐身～|就不想妳再躲着   \n",
       "14                                               恭喜恭喜   \n",
       "15                                              全当有氧了   \n",
       "16                                               你真贤惠   \n",
       "17  嫁对了人，多远都是幸福，嫁不对人，一个村也是凑合|我妈从小就灌输我思想，千万别找外地的，因此...   \n",
       "18                                               喜新厌旧   \n",
       "19                      这才好，女生主动，她气你也是她的可爱|做男人很辛苦的啊哈哈   \n",
       "\n",
       "                          q2  y  \n",
       "0              看我对你多好呀一起来就找你  0  \n",
       "1             好呀～我想过失忆呢看电视看的  1  \n",
       "2                  反正你们都不爱我了  0  \n",
       "3        知道10个女人和一个男人在岛上的故事么  1  \n",
       "4                 我怕你的老师会爱上我  1  \n",
       "5                   我喜欢冬天不怕冷  0  \n",
       "6                   今晚不用开空调了  0  \n",
       "7                哪里要我带了吸尘器去吗  1  \n",
       "8                 我要起床，准备上班了  1  \n",
       "9                  嗨呀你这样说就好气  1  \n",
       "10                       你2妹  1  \n",
       "11                     我也就说说  1  \n",
       "12                 来让我们相伴到黎明  0  \n",
       "13        爬嘛你我好久说撇咯么我期望有点儿高么  0  \n",
       "14                    谢谢大脸姐姐  1  \n",
       "15                      施主节哀  0  \n",
       "16  拜托，自己给自己准备，那是没有办法，那你怎么吃啊  1  \n",
       "17                        真好  1  \n",
       "18                   你的id好特别  0  \n",
       "19                  孩纸...皮好薄  0  "
      ]
     },
     "execution_count": 17,
     "metadata": {},
     "output_type": "execute_result"
    }
   ],
   "source": [
    "data_train.head(20)"
   ]
  },
  {
   "cell_type": "code",
   "execution_count": 18,
   "id": "leading-aggregate",
   "metadata": {},
   "outputs": [],
   "source": [
    "batch_size=16"
   ]
  },
  {
   "cell_type": "code",
   "execution_count": 19,
   "id": "refined-seeker",
   "metadata": {},
   "outputs": [],
   "source": [
    "dl_train=DataLoader(MyDataset(data_train),pin_memory=True,batch_size=batch_size, collate_fn=MyDataset.collate_fn)\n",
    "dl_valid=DataLoader(MyDataset(data_valid),pin_memory=True,batch_size=batch_size, collate_fn=MyDataset.collate_fn)\n",
    "dl_test=DataLoader(MyDataset(data_test),pin_memory=True,batch_size=batch_size, collate_fn=MyDataset.collate_fn)"
   ]
  },
  {
   "cell_type": "code",
   "execution_count": 20,
   "id": "popular-expert",
   "metadata": {},
   "outputs": [
    {
     "data": {
      "text/plain": [
       "('../data/model/20210316-192256', '../data/model/20210316-192256/model')"
      ]
     },
     "execution_count": 20,
     "metadata": {},
     "output_type": "execute_result"
    }
   ],
   "source": [
    "md,mp=get_model_path(source_dir, 'model', version)\n",
    "md,mp"
   ]
  },
  {
   "cell_type": "code",
   "execution_count": 24,
   "id": "seventh-resident",
   "metadata": {},
   "outputs": [
    {
     "name": "stderr",
     "output_type": "stream",
     "text": [
      "/home/zj/anaconda3/lib/python3.8/site-packages/pytorch_lightning/utilities/distributed.py:50: UserWarning: Checkpoint directory /home/zj/xiebing/jupyter/topic manage/data/model/20210316-192256 exists and is not empty.\n",
      "  warnings.warn(*args, **kwargs)\n",
      "GPU available: True, used: True\n",
      "TPU available: None, using: 0 TPU cores\n",
      "LOCAL_RANK: 0 - CUDA_VISIBLE_DEVICES: [0,1]\n"
     ]
    }
   ],
   "source": [
    "ckpt=ModelCheckpoint(filepath=mp, monitor='valid_acc', save_top_k=1)\n",
    "csv_logger=CSVLogger(md,'log')\n",
    "trainer=Trainer(gpus=[1], max_epochs=2, callbacks=[ckpt], logger=csv_logger)"
   ]
  },
  {
   "cell_type": "code",
   "execution_count": 21,
   "id": "immediate-space",
   "metadata": {},
   "outputs": [
    {
     "name": "stderr",
     "output_type": "stream",
     "text": [
      "\n",
      "  | Name      | Type      | Params\n",
      "----------------------------------------\n",
      "0 | bert      | BertModel | 102 M \n",
      "1 | dense1    | Linear    | 196 K \n",
      "2 | dense2    | Linear    | 129   \n",
      "3 | train_acc | Accuracy  | 0     \n",
      "4 | valid_acc | Accuracy  | 0     \n",
      "5 | test_acc  | Accuracy  | 0     \n",
      "----------------------------------------\n",
      "102 M     Trainable params\n",
      "0         Non-trainable params\n",
      "102 M     Total params\n",
      "/home/zj/anaconda3/lib/python3.8/site-packages/pytorch_lightning/utilities/distributed.py:50: UserWarning: The dataloader, val dataloader 0, does not have many workers which may be a bottleneck. Consider increasing the value of the `num_workers` argument` (try 104 which is the number of cpus on this machine) in the `DataLoader` init to improve performance.\n",
      "  warnings.warn(*args, **kwargs)\n"
     ]
    },
    {
     "data": {
      "application/vnd.jupyter.widget-view+json": {
       "model_id": "",
       "version_major": 2,
       "version_minor": 0
      },
      "text/plain": [
       "Validation sanity check: 0it [00:00, ?it/s]"
      ]
     },
     "metadata": {},
     "output_type": "display_data"
    },
    {
     "name": "stdout",
     "output_type": "stream",
     "text": [
      "train_acc=0.0000, valid_acc=0.5312\n"
     ]
    },
    {
     "name": "stderr",
     "output_type": "stream",
     "text": [
      "/home/zj/anaconda3/lib/python3.8/site-packages/pytorch_lightning/utilities/distributed.py:50: UserWarning: The dataloader, train dataloader, does not have many workers which may be a bottleneck. Consider increasing the value of the `num_workers` argument` (try 104 which is the number of cpus on this machine) in the `DataLoader` init to improve performance.\n",
      "  warnings.warn(*args, **kwargs)\n"
     ]
    },
    {
     "data": {
      "application/vnd.jupyter.widget-view+json": {
       "model_id": "559c7bf50f5c446c8b42fd8d8f1e158f",
       "version_major": 2,
       "version_minor": 0
      },
      "text/plain": [
       "Training: 0it [00:00, ?it/s]"
      ]
     },
     "metadata": {},
     "output_type": "display_data"
    },
    {
     "data": {
      "application/vnd.jupyter.widget-view+json": {
       "model_id": "",
       "version_major": 2,
       "version_minor": 0
      },
      "text/plain": [
       "Validating: 0it [00:00, ?it/s]"
      ]
     },
     "metadata": {},
     "output_type": "display_data"
    },
    {
     "name": "stdout",
     "output_type": "stream",
     "text": [
      "train_acc=0.0000, valid_acc=0.6859\n"
     ]
    },
    {
     "data": {
      "application/vnd.jupyter.widget-view+json": {
       "model_id": "",
       "version_major": 2,
       "version_minor": 0
      },
      "text/plain": [
       "Validating: 0it [00:00, ?it/s]"
      ]
     },
     "metadata": {},
     "output_type": "display_data"
    },
    {
     "name": "stdout",
     "output_type": "stream",
     "text": [
      "train_acc=0.6531, valid_acc=0.7112\n"
     ]
    },
    {
     "data": {
      "text/plain": [
       "1"
      ]
     },
     "execution_count": 21,
     "metadata": {},
     "output_type": "execute_result"
    }
   ],
   "source": [
    "trainer.fit(model, dl_train, dl_valid)"
   ]
  },
  {
   "cell_type": "code",
   "execution_count": 22,
   "id": "acquired-facial",
   "metadata": {},
   "outputs": [],
   "source": [
    "log_dir=os.path.join(md,'log')\n",
    "d=os.listdir(log_dir)[-1]\n",
    "fp=os.path.join(md,'log',d,'metrics.csv')\n",
    "history=pd.read_csv(fp)"
   ]
  },
  {
   "cell_type": "code",
   "execution_count": 23,
   "id": "hispanic-telescope",
   "metadata": {},
   "outputs": [
    {
     "data": {
      "image/png": "[encoded data removed]",
      "text/plain": [
       "<Figure size 432x288 with 1 Axes>"
      ]
     },
     "metadata": {
      "needs_background": "light"
     },
     "output_type": "display_data"
    }
   ],
   "source": [
    "def plot_curve(history):\n",
    "    tran_acc=history['train_acc_epoch'][history['train_acc_epoch'].notna()]\n",
    "    valid_acc=history['valid_acc'][history['valid_acc'].notna()]\n",
    "    fig=plt.figure()\n",
    "    x=range(1,len(tran_acc)+1)\n",
    "    plt.plot(x, tran_acc, 'g--')\n",
    "    plt.plot(x, valid_acc, 'r')\n",
    "    idx=valid_acc.argmax()\n",
    "    mv=valid_acc.iloc[idx]\n",
    "    plt.plot(idx+1,mv,'r*',markersize=10)\n",
    "    plt.legend(['acc','val_acc'], loc=2)\n",
    "    plt.annotate(f'{mv:.6}', xy=(idx+1, mv),  xycoords='data',\n",
    "                xytext=(idx+1,mv),\n",
    "                horizontalalignment='left', verticalalignment='top')\n",
    "    return fig\n",
    "fig=plot_curve(history)"
   ]
  },
  {
   "cell_type": "code",
   "execution_count": 22,
   "id": "meaningful-smoke",
   "metadata": {},
   "outputs": [],
   "source": [
    "model=model.load_from_checkpoint('../data/model/20210316-192256/model.ckpt')"
   ]
  },
  {
   "cell_type": "code",
   "execution_count": 25,
   "id": "ordered-heath",
   "metadata": {},
   "outputs": [
    {
     "name": "stderr",
     "output_type": "stream",
     "text": [
      "/home/zj/anaconda3/lib/python3.8/site-packages/pytorch_lightning/utilities/distributed.py:50: UserWarning: The dataloader, test dataloader 0, does not have many workers which may be a bottleneck. Consider increasing the value of the `num_workers` argument` (try 104 which is the number of cpus on this machine) in the `DataLoader` init to improve performance.\n",
      "  warnings.warn(*args, **kwargs)\n"
     ]
    },
    {
     "data": {
      "application/vnd.jupyter.widget-view+json": {
       "model_id": "860532b0b73a49f0a0ca708c60ead12c",
       "version_major": 2,
       "version_minor": 0
      },
      "text/plain": [
       "Testing: 0it [00:00, ?it/s]"
      ]
     },
     "metadata": {},
     "output_type": "display_data"
    },
    {
     "name": "stdout",
     "output_type": "stream",
     "text": [
      "test_acc=0.7300\n",
      "--------------------------------------------------------------------------------\n",
      "DATALOADER:0 TEST RESULTS\n",
      "{}\n",
      "--------------------------------------------------------------------------------\n",
      "              precision    recall  f1-score   support\n",
      "\n",
      "         0.0   0.664874  0.750174  0.704953     14334\n",
      "         1.0   0.791426  0.714857  0.751196     19008\n",
      "\n",
      "    accuracy                       0.730040     33342\n",
      "   macro avg   0.728150  0.732516  0.728074     33342\n",
      "weighted avg   0.737020  0.730040  0.731315     33342\n",
      "\n"
     ]
    }
   ],
   "source": [
    "trainer.test(model,test_dataloaders=dl_test)\n",
    "result=classification_report(model.labels,pd.Series(model.predicts)>=0.5, digits=6)\n",
    "print(result)"
   ]
  },
  {
   "cell_type": "code",
   "execution_count": 25,
   "id": "hired-sydney",
   "metadata": {},
   "outputs": [],
   "source": [
    "nb_name=None"
   ]
  },
  {
   "cell_type": "code",
   "execution_count": 26,
   "id": "former-indonesian",
   "metadata": {},
   "outputs": [
    {
     "data": {
      "application/javascript": [
       "IPython.notebook.save_notebook()\n",
       "IPython.notebook.kernel.execute('nb_name = \"' + IPython.notebook.notebook_name + '\"')\n"
      ],
      "text/plain": [
       "<IPython.core.display.Javascript object>"
      ]
     },
     "metadata": {},
     "output_type": "display_data"
    }
   ],
   "source": [
    "%%javascript\n",
    "IPython.notebook.save_notebook()\n",
    "IPython.notebook.kernel.execute('nb_name = \"' + IPython.notebook.notebook_name + '\"')"
   ]
  },
  {
   "cell_type": "code",
   "execution_count": 27,
   "id": "generic-spiritual",
   "metadata": {},
   "outputs": [
    {
     "name": "stdout",
     "output_type": "stream",
     "text": [
      "name assigned\n"
     ]
    }
   ],
   "source": [
    "if not nb_name:\n",
    "    nb_name='train.ipynb'\n",
    "    print('name assigned')"
   ]
  },
  {
   "cell_type": "code",
   "execution_count": 28,
   "id": "speaking-cuisine",
   "metadata": {},
   "outputs": [
    {
     "data": {
      "text/plain": [
       "0"
      ]
     },
     "execution_count": 28,
     "metadata": {},
     "output_type": "execute_result"
    }
   ],
   "source": [
    "os.system(f'jupyter nbconvert --output-dir {md} --to html {nb_name}')"
   ]
  },
  {
   "cell_type": "code",
   "execution_count": 36,
   "id": "administrative-zoning",
   "metadata": {},
   "outputs": [],
   "source": [
    "data_test['yh']=(pd.Series(model.predicts)>=0.5).map({True:1,False:0})"
   ]
  },
  {
   "cell_type": "code",
   "execution_count": 38,
   "id": "suburban-principal",
   "metadata": {},
   "outputs": [],
   "source": [
    "badcase=data_test[data_test['y']!=data_test['yh']]"
   ]
  },
  {
   "cell_type": "code",
   "execution_count": 40,
   "id": "expanded-number",
   "metadata": {},
   "outputs": [
    {
     "data": {
      "text/plain": [
       "'../data/model/20210316-192256'"
      ]
     },
     "execution_count": 40,
     "metadata": {},
     "output_type": "execute_result"
    }
   ],
   "source": [
    "md"
   ]
  },
  {
   "cell_type": "code",
   "execution_count": 41,
   "id": "tired-boxing",
   "metadata": {},
   "outputs": [],
   "source": [
    "badcase.to_csv(os.path.join(md, 'badcase.csv'))"
   ]
  },
  {
   "cell_type": "code",
   "execution_count": null,
   "id": "compatible-juvenile",
   "metadata": {},
   "outputs": [],
   "source": []
  }
 ],
 "metadata": {
  "kernelspec": {
   "display_name": "Python 3",
   "language": "python",
   "name": "python3"
  },
  "language_info": {
   "codemirror_mode": {
    "name": "ipython",
    "version": 3
   },
   "file_extension": ".py",
   "mimetype": "text/x-python",
   "name": "python",
   "nbconvert_exporter": "python",
   "pygments_lexer": "ipython3",
   "version": "3.8.5"
  }
 },
 "nbformat": 4,
 "nbformat_minor": 5
}
